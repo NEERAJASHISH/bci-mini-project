{
 "cells": [
  {
   "cell_type": "code",
   "execution_count": 1,
   "id": "a883d4f7",
   "metadata": {},
   "outputs": [],
   "source": [
    "import numpy as np\n",
    "import matplotlib.pyplot as plt\n",
    "import pandas as pd\n",
    "import seaborn as sn"
   ]
  },
  {
   "cell_type": "code",
   "execution_count": 12,
   "id": "12a04e19",
   "metadata": {},
   "outputs": [
    {
     "ename": "UnicodeDecodeError",
     "evalue": "'utf-8' codec can't decode bytes in position 15-16: invalid continuation byte",
     "output_type": "error",
     "traceback": [
      "\u001b[1;31m---------------------------------------------------------------------------\u001b[0m",
      "\u001b[1;31mUnicodeDecodeError\u001b[0m                        Traceback (most recent call last)",
      "\u001b[1;32m<ipython-input-12-decc99e1650c>\u001b[0m in \u001b[0;36m<module>\u001b[1;34m\u001b[0m\n\u001b[1;32m----> 1\u001b[1;33m \u001b[0mESR\u001b[0m \u001b[1;33m=\u001b[0m \u001b[0mpd\u001b[0m\u001b[1;33m.\u001b[0m\u001b[0mread_csv\u001b[0m\u001b[1;33m(\u001b[0m\u001b[1;34m'combined.csv'\u001b[0m\u001b[1;33m)\u001b[0m\u001b[1;33m\u001b[0m\u001b[1;33m\u001b[0m\u001b[0m\n\u001b[0m\u001b[0;32m      2\u001b[0m \u001b[0mESR\u001b[0m\u001b[1;33m.\u001b[0m\u001b[0mhead\u001b[0m\u001b[1;33m(\u001b[0m\u001b[1;33m)\u001b[0m\u001b[1;33m\u001b[0m\u001b[1;33m\u001b[0m\u001b[0m\n",
      "\u001b[1;32m~\\anaconda3\\lib\\site-packages\\pandas\\util\\_decorators.py\u001b[0m in \u001b[0;36mwrapper\u001b[1;34m(*args, **kwargs)\u001b[0m\n\u001b[0;32m    309\u001b[0m                     \u001b[0mstacklevel\u001b[0m\u001b[1;33m=\u001b[0m\u001b[0mstacklevel\u001b[0m\u001b[1;33m,\u001b[0m\u001b[1;33m\u001b[0m\u001b[1;33m\u001b[0m\u001b[0m\n\u001b[0;32m    310\u001b[0m                 )\n\u001b[1;32m--> 311\u001b[1;33m             \u001b[1;32mreturn\u001b[0m \u001b[0mfunc\u001b[0m\u001b[1;33m(\u001b[0m\u001b[1;33m*\u001b[0m\u001b[0margs\u001b[0m\u001b[1;33m,\u001b[0m \u001b[1;33m**\u001b[0m\u001b[0mkwargs\u001b[0m\u001b[1;33m)\u001b[0m\u001b[1;33m\u001b[0m\u001b[1;33m\u001b[0m\u001b[0m\n\u001b[0m\u001b[0;32m    312\u001b[0m \u001b[1;33m\u001b[0m\u001b[0m\n\u001b[0;32m    313\u001b[0m         \u001b[1;32mreturn\u001b[0m \u001b[0mwrapper\u001b[0m\u001b[1;33m\u001b[0m\u001b[1;33m\u001b[0m\u001b[0m\n",
      "\u001b[1;32m~\\anaconda3\\lib\\site-packages\\pandas\\io\\parsers\\readers.py\u001b[0m in \u001b[0;36mread_csv\u001b[1;34m(filepath_or_buffer, sep, delimiter, header, names, index_col, usecols, squeeze, prefix, mangle_dupe_cols, dtype, engine, converters, true_values, false_values, skipinitialspace, skiprows, skipfooter, nrows, na_values, keep_default_na, na_filter, verbose, skip_blank_lines, parse_dates, infer_datetime_format, keep_date_col, date_parser, dayfirst, cache_dates, iterator, chunksize, compression, thousands, decimal, lineterminator, quotechar, quoting, doublequote, escapechar, comment, encoding, encoding_errors, dialect, error_bad_lines, warn_bad_lines, on_bad_lines, delim_whitespace, low_memory, memory_map, float_precision, storage_options)\u001b[0m\n\u001b[0;32m    584\u001b[0m     \u001b[0mkwds\u001b[0m\u001b[1;33m.\u001b[0m\u001b[0mupdate\u001b[0m\u001b[1;33m(\u001b[0m\u001b[0mkwds_defaults\u001b[0m\u001b[1;33m)\u001b[0m\u001b[1;33m\u001b[0m\u001b[1;33m\u001b[0m\u001b[0m\n\u001b[0;32m    585\u001b[0m \u001b[1;33m\u001b[0m\u001b[0m\n\u001b[1;32m--> 586\u001b[1;33m     \u001b[1;32mreturn\u001b[0m \u001b[0m_read\u001b[0m\u001b[1;33m(\u001b[0m\u001b[0mfilepath_or_buffer\u001b[0m\u001b[1;33m,\u001b[0m \u001b[0mkwds\u001b[0m\u001b[1;33m)\u001b[0m\u001b[1;33m\u001b[0m\u001b[1;33m\u001b[0m\u001b[0m\n\u001b[0m\u001b[0;32m    587\u001b[0m \u001b[1;33m\u001b[0m\u001b[0m\n\u001b[0;32m    588\u001b[0m \u001b[1;33m\u001b[0m\u001b[0m\n",
      "\u001b[1;32m~\\anaconda3\\lib\\site-packages\\pandas\\io\\parsers\\readers.py\u001b[0m in \u001b[0;36m_read\u001b[1;34m(filepath_or_buffer, kwds)\u001b[0m\n\u001b[0;32m    480\u001b[0m \u001b[1;33m\u001b[0m\u001b[0m\n\u001b[0;32m    481\u001b[0m     \u001b[1;31m# Create the parser.\u001b[0m\u001b[1;33m\u001b[0m\u001b[1;33m\u001b[0m\u001b[1;33m\u001b[0m\u001b[0m\n\u001b[1;32m--> 482\u001b[1;33m     \u001b[0mparser\u001b[0m \u001b[1;33m=\u001b[0m \u001b[0mTextFileReader\u001b[0m\u001b[1;33m(\u001b[0m\u001b[0mfilepath_or_buffer\u001b[0m\u001b[1;33m,\u001b[0m \u001b[1;33m**\u001b[0m\u001b[0mkwds\u001b[0m\u001b[1;33m)\u001b[0m\u001b[1;33m\u001b[0m\u001b[1;33m\u001b[0m\u001b[0m\n\u001b[0m\u001b[0;32m    483\u001b[0m \u001b[1;33m\u001b[0m\u001b[0m\n\u001b[0;32m    484\u001b[0m     \u001b[1;32mif\u001b[0m \u001b[0mchunksize\u001b[0m \u001b[1;32mor\u001b[0m \u001b[0miterator\u001b[0m\u001b[1;33m:\u001b[0m\u001b[1;33m\u001b[0m\u001b[1;33m\u001b[0m\u001b[0m\n",
      "\u001b[1;32m~\\anaconda3\\lib\\site-packages\\pandas\\io\\parsers\\readers.py\u001b[0m in \u001b[0;36m__init__\u001b[1;34m(self, f, engine, **kwds)\u001b[0m\n\u001b[0;32m    809\u001b[0m             \u001b[0mself\u001b[0m\u001b[1;33m.\u001b[0m\u001b[0moptions\u001b[0m\u001b[1;33m[\u001b[0m\u001b[1;34m\"has_index_names\"\u001b[0m\u001b[1;33m]\u001b[0m \u001b[1;33m=\u001b[0m \u001b[0mkwds\u001b[0m\u001b[1;33m[\u001b[0m\u001b[1;34m\"has_index_names\"\u001b[0m\u001b[1;33m]\u001b[0m\u001b[1;33m\u001b[0m\u001b[1;33m\u001b[0m\u001b[0m\n\u001b[0;32m    810\u001b[0m \u001b[1;33m\u001b[0m\u001b[0m\n\u001b[1;32m--> 811\u001b[1;33m         \u001b[0mself\u001b[0m\u001b[1;33m.\u001b[0m\u001b[0m_engine\u001b[0m \u001b[1;33m=\u001b[0m \u001b[0mself\u001b[0m\u001b[1;33m.\u001b[0m\u001b[0m_make_engine\u001b[0m\u001b[1;33m(\u001b[0m\u001b[0mself\u001b[0m\u001b[1;33m.\u001b[0m\u001b[0mengine\u001b[0m\u001b[1;33m)\u001b[0m\u001b[1;33m\u001b[0m\u001b[1;33m\u001b[0m\u001b[0m\n\u001b[0m\u001b[0;32m    812\u001b[0m \u001b[1;33m\u001b[0m\u001b[0m\n\u001b[0;32m    813\u001b[0m     \u001b[1;32mdef\u001b[0m \u001b[0mclose\u001b[0m\u001b[1;33m(\u001b[0m\u001b[0mself\u001b[0m\u001b[1;33m)\u001b[0m\u001b[1;33m:\u001b[0m\u001b[1;33m\u001b[0m\u001b[1;33m\u001b[0m\u001b[0m\n",
      "\u001b[1;32m~\\anaconda3\\lib\\site-packages\\pandas\\io\\parsers\\readers.py\u001b[0m in \u001b[0;36m_make_engine\u001b[1;34m(self, engine)\u001b[0m\n\u001b[0;32m   1038\u001b[0m             )\n\u001b[0;32m   1039\u001b[0m         \u001b[1;31m# error: Too many arguments for \"ParserBase\"\u001b[0m\u001b[1;33m\u001b[0m\u001b[1;33m\u001b[0m\u001b[1;33m\u001b[0m\u001b[0m\n\u001b[1;32m-> 1040\u001b[1;33m         \u001b[1;32mreturn\u001b[0m \u001b[0mmapping\u001b[0m\u001b[1;33m[\u001b[0m\u001b[0mengine\u001b[0m\u001b[1;33m]\u001b[0m\u001b[1;33m(\u001b[0m\u001b[0mself\u001b[0m\u001b[1;33m.\u001b[0m\u001b[0mf\u001b[0m\u001b[1;33m,\u001b[0m \u001b[1;33m**\u001b[0m\u001b[0mself\u001b[0m\u001b[1;33m.\u001b[0m\u001b[0moptions\u001b[0m\u001b[1;33m)\u001b[0m  \u001b[1;31m# type: ignore[call-arg]\u001b[0m\u001b[1;33m\u001b[0m\u001b[1;33m\u001b[0m\u001b[0m\n\u001b[0m\u001b[0;32m   1041\u001b[0m \u001b[1;33m\u001b[0m\u001b[0m\n\u001b[0;32m   1042\u001b[0m     \u001b[1;32mdef\u001b[0m \u001b[0m_failover_to_python\u001b[0m\u001b[1;33m(\u001b[0m\u001b[0mself\u001b[0m\u001b[1;33m)\u001b[0m\u001b[1;33m:\u001b[0m\u001b[1;33m\u001b[0m\u001b[1;33m\u001b[0m\u001b[0m\n",
      "\u001b[1;32m~\\anaconda3\\lib\\site-packages\\pandas\\io\\parsers\\c_parser_wrapper.py\u001b[0m in \u001b[0;36m__init__\u001b[1;34m(self, src, **kwds)\u001b[0m\n\u001b[0;32m     67\u001b[0m         \u001b[0mkwds\u001b[0m\u001b[1;33m[\u001b[0m\u001b[1;34m\"dtype\"\u001b[0m\u001b[1;33m]\u001b[0m \u001b[1;33m=\u001b[0m \u001b[0mensure_dtype_objs\u001b[0m\u001b[1;33m(\u001b[0m\u001b[0mkwds\u001b[0m\u001b[1;33m.\u001b[0m\u001b[0mget\u001b[0m\u001b[1;33m(\u001b[0m\u001b[1;34m\"dtype\"\u001b[0m\u001b[1;33m,\u001b[0m \u001b[1;32mNone\u001b[0m\u001b[1;33m)\u001b[0m\u001b[1;33m)\u001b[0m\u001b[1;33m\u001b[0m\u001b[1;33m\u001b[0m\u001b[0m\n\u001b[0;32m     68\u001b[0m         \u001b[1;32mtry\u001b[0m\u001b[1;33m:\u001b[0m\u001b[1;33m\u001b[0m\u001b[1;33m\u001b[0m\u001b[0m\n\u001b[1;32m---> 69\u001b[1;33m             \u001b[0mself\u001b[0m\u001b[1;33m.\u001b[0m\u001b[0m_reader\u001b[0m \u001b[1;33m=\u001b[0m \u001b[0mparsers\u001b[0m\u001b[1;33m.\u001b[0m\u001b[0mTextReader\u001b[0m\u001b[1;33m(\u001b[0m\u001b[0mself\u001b[0m\u001b[1;33m.\u001b[0m\u001b[0mhandles\u001b[0m\u001b[1;33m.\u001b[0m\u001b[0mhandle\u001b[0m\u001b[1;33m,\u001b[0m \u001b[1;33m**\u001b[0m\u001b[0mkwds\u001b[0m\u001b[1;33m)\u001b[0m\u001b[1;33m\u001b[0m\u001b[1;33m\u001b[0m\u001b[0m\n\u001b[0m\u001b[0;32m     70\u001b[0m         \u001b[1;32mexcept\u001b[0m \u001b[0mException\u001b[0m\u001b[1;33m:\u001b[0m\u001b[1;33m\u001b[0m\u001b[1;33m\u001b[0m\u001b[0m\n\u001b[0;32m     71\u001b[0m             \u001b[0mself\u001b[0m\u001b[1;33m.\u001b[0m\u001b[0mhandles\u001b[0m\u001b[1;33m.\u001b[0m\u001b[0mclose\u001b[0m\u001b[1;33m(\u001b[0m\u001b[1;33m)\u001b[0m\u001b[1;33m\u001b[0m\u001b[1;33m\u001b[0m\u001b[0m\n",
      "\u001b[1;32m~\\anaconda3\\lib\\site-packages\\pandas\\_libs\\parsers.pyx\u001b[0m in \u001b[0;36mpandas._libs.parsers.TextReader.__cinit__\u001b[1;34m()\u001b[0m\n",
      "\u001b[1;32m~\\anaconda3\\lib\\site-packages\\pandas\\_libs\\parsers.pyx\u001b[0m in \u001b[0;36mpandas._libs.parsers.TextReader._get_header\u001b[1;34m()\u001b[0m\n",
      "\u001b[1;32m~\\anaconda3\\lib\\site-packages\\pandas\\_libs\\parsers.pyx\u001b[0m in \u001b[0;36mpandas._libs.parsers.TextReader._tokenize_rows\u001b[1;34m()\u001b[0m\n",
      "\u001b[1;32m~\\anaconda3\\lib\\site-packages\\pandas\\_libs\\parsers.pyx\u001b[0m in \u001b[0;36mpandas._libs.parsers.raise_parser_error\u001b[1;34m()\u001b[0m\n",
      "\u001b[1;31mUnicodeDecodeError\u001b[0m: 'utf-8' codec can't decode bytes in position 15-16: invalid continuation byte"
     ]
    }
   ],
   "source": [
    "ESR = pd.read_csv('combined.csv')\n",
    "ESR.head()"
   ]
  },
  {
   "cell_type": "code",
   "execution_count": null,
   "id": "f4e6c405",
   "metadata": {},
   "outputs": [],
   "source": [
    "ESR"
   ]
  },
  {
   "cell_type": "code",
   "execution_count": null,
   "id": "23e445af",
   "metadata": {},
   "outputs": [],
   "source": [
    "ESR.columns"
   ]
  },
  {
   "cell_type": "code",
   "execution_count": null,
   "id": "a0c428d5",
   "metadata": {},
   "outputs": [],
   "source": [
    "ESR.isnull().sum()  #isnull().sum()  gives the sum of missing value in the data set or  nan values here in the data set "
   ]
  },
  {
   "cell_type": "code",
   "execution_count": null,
   "id": "5bffd940",
   "metadata": {},
   "outputs": [],
   "source": [
    "ESR.info() # gives the information about the data"
   ]
  },
  {
   "cell_type": "code",
   "execution_count": null,
   "id": "e693d594",
   "metadata": {},
   "outputs": [],
   "source": [
    "ESR.tail(2881) #gives the entire description of the data set"
   ]
  },
  {
   "cell_type": "code",
   "execution_count": null,
   "id": "6f14144f",
   "metadata": {},
   "outputs": [],
   "source": [
    "ESR.loc[3] # it fetches the particular row  loc[row number]"
   ]
  },
  {
   "cell_type": "code",
   "execution_count": null,
   "id": "da024b9b",
   "metadata": {},
   "outputs": [],
   "source": [
    "ESR.loc[3,\"AF3 delta std\"]"
   ]
  },
  {
   "cell_type": "code",
   "execution_count": null,
   "id": "2be8e9ec",
   "metadata": {},
   "outputs": [],
   "source": [
    "ESR.loc[0:4] # to extract the particular portion of the data set"
   ]
  },
  {
   "cell_type": "code",
   "execution_count": null,
   "id": "e719f9ef",
   "metadata": {},
   "outputs": [],
   "source": [
    "ESR.loc[0:4,\"AF3 delta std\"] # to extract only the values of particular  section of the data set and particular coloum"
   ]
  },
  {
   "cell_type": "code",
   "execution_count": null,
   "id": "07bb9249",
   "metadata": {},
   "outputs": [],
   "source": [
    "ESR.loc[0:4,[\"AF3 delta std\",\"AF3 delta m\"]] # to extend the coloums"
   ]
  },
  {
   "cell_type": "code",
   "execution_count": null,
   "id": "83901e46",
   "metadata": {},
   "outputs": [],
   "source": [
    "# for the slicing the coloums based on the names\n",
    "ESR.loc[0:4,\"AF3 delta std\":\"AF3 alpha m\"] # to extend the coloums"
   ]
  },
  {
   "cell_type": "code",
   "execution_count": null,
   "id": "e150f3e8",
   "metadata": {
    "scrolled": true
   },
   "outputs": [],
   "source": [
    "ESR.iloc[:,1] # iloc[rows,coloums]"
   ]
  },
  {
   "cell_type": "code",
   "execution_count": null,
   "id": "e69f8037",
   "metadata": {},
   "outputs": [],
   "source": [
    "l = [1,2,3,4]\n",
    "l[:3]"
   ]
  },
  {
   "cell_type": "code",
   "execution_count": null,
   "id": "cc03a40d",
   "metadata": {},
   "outputs": [],
   "source": [
    "ESR['Class'].value_counts()"
   ]
  },
  {
   "cell_type": "code",
   "execution_count": null,
   "id": "25da18b7",
   "metadata": {},
   "outputs": [],
   "source": [
    "ESR.groupby('Class').mean()"
   ]
  },
  {
   "cell_type": "code",
   "execution_count": null,
   "id": "49a538d2",
   "metadata": {},
   "outputs": [],
   "source": [
    "x = ESR.drop(columns='Class',axis = 1)\n",
    "y = ESR['Class']"
   ]
  },
  {
   "cell_type": "code",
   "execution_count": null,
   "id": "7953e334",
   "metadata": {},
   "outputs": [],
   "source": [
    "x.shape"
   ]
  },
  {
   "cell_type": "code",
   "execution_count": null,
   "id": "2078b13c",
   "metadata": {},
   "outputs": [],
   "source": [
    "y.shape"
   ]
  },
  {
   "cell_type": "code",
   "execution_count": null,
   "id": "fba6a13e",
   "metadata": {},
   "outputs": [],
   "source": [
    "x"
   ]
  },
  {
   "cell_type": "code",
   "execution_count": null,
   "id": "f86c1372",
   "metadata": {},
   "outputs": [],
   "source": [
    "y"
   ]
  },
  {
   "cell_type": "code",
   "execution_count": null,
   "id": "215eff37",
   "metadata": {},
   "outputs": [],
   "source": [
    "from sklearn.preprocessing import StandardScaler"
   ]
  },
  {
   "cell_type": "code",
   "execution_count": null,
   "id": "b2a2f8e5",
   "metadata": {},
   "outputs": [],
   "source": [
    "sc = StandardScaler()\n",
    "standardized_data = sc.fit_transform(x)"
   ]
  },
  {
   "cell_type": "code",
   "execution_count": null,
   "id": "8429cc4e",
   "metadata": {},
   "outputs": [],
   "source": [
    "x = standardized_data\n",
    "y = ESR['Class']"
   ]
  },
  {
   "cell_type": "code",
   "execution_count": null,
   "id": "7bcb4ee1",
   "metadata": {},
   "outputs": [],
   "source": [
    "print(x)\n",
    "print(y)"
   ]
  },
  {
   "cell_type": "code",
   "execution_count": null,
   "id": "376d8651",
   "metadata": {},
   "outputs": [],
   "source": [
    "from sklearn.model_selection import train_test_split, cross_val_score\n",
    "X_train, X_test, y_train, y_test = train_test_split(x, y, test_size = 0.4,stratify=y,random_state=2)"
   ]
  },
  {
   "cell_type": "markdown",
   "id": "9734bb60",
   "metadata": {},
   "source": [
    "# LOGISTIC REGRESSION"
   ]
  },
  {
   "cell_type": "code",
   "execution_count": null,
   "id": "c02bc7f2",
   "metadata": {},
   "outputs": [],
   "source": [
    "from sklearn.linear_model import LogisticRegression\n",
    "from sklearn.metrics import accuracy_score\n",
    "clf1 = LogisticRegression()\n",
    "clf1.fit(X_train, y_train)\n",
    "X_trainning_data_prediction = clf1.predict(X_train)\n",
    "\n",
    "acc_log_reg = round(accuracy_score(X_trainning_data_prediction, y_train)*100,2)\n",
    "print ('The testing accuracy due to logistic regression',str(acc_log_reg) + ' %')\n",
    "\n",
    "\n",
    "X_test_data_prediction = clf1.predict(X_test)\n",
    "acc_log_reg = round(accuracy_score(X_test_data_prediction, y_test)*100,2)\n",
    "print ('The trainning accuracy',str(acc_log_reg) + ' %')\n",
    "\n",
    "\n",
    "input_data = (3569.1645502276033,2063.8927540442164,1.6737259062456604,4.4447362906722345,0.5262086374136803,3.002088408715654,1.4250222149628013,3.3027389168677366,3563.80388774546,2060.239056808996,1.4040886882722885,2.279397625142047,1.2974008089347138,1.9600794414562057,0.7599563291241991,2.038976574144329,3709.0097120740693,2180.647682250679,19.491141388448067,39.84741942148074,20.493347999809618,41.2287964967144,46.00737210152773,73.49323257253741,3567.3652646503615,2062.4830972223294,1.2099963401875848,1.7718110277795354,0.16179325941076056,1.8184903572236792,0.6886717276621478,1.6417666169862315,3559.2192789568667,2057.363361163637,1.0275509554011428,2.5023887847525996,1.495156498646184,2.207700901706084,1.029114118297356,2.226548713744709,3677.92120815544,2159.747917973448,16.56418429067598,37.75394248650719,14.79399147039043,39.01913400137683,45.198246443440205,72.94291494925437,3574.9853368311283,2066.285516719386,1.024091979410101,2.980396263615955,0.9616119083522146,2.6522677130112546,3.595956730908903,5.876658118715367,3641.1855276249125,2147.591861938904,24.949741498558545,49.475072884767826,20.62595751977841,47.43664660378428,46.813504716231044,76.56728379426937,3579.2685387320844,2077.123468939235,3.607672368919065,9.938368917187017,4.343275036101095,12.528566017422637,17.19451664142212,27.690241735191368,3636.780856395662,2138.663492934993,19.3106698404085,36.20083571404867,15.881326556552738,38.774852645918465,43.60199502020086,69.778362729039,3694.245877472315,2174.777021196275,18.42652422355754,40.4883929319332,16.41050498199057,38.85033552451535,45.32926324514407,72.90779981468211,3577.5214338152978,2067.996961866034,1.2329730962348122,3.073659235927023,0.9194189952153057,2.634124325509432,3.3486977417075225,5.380652423380749,3665.336755373622,2157.675046311957,15.543111488507492,37.37419935494729,15.907311987132736,40.854795335375655,45.468325549548254,72.50874980453948,3701.186330401986,2182.676835001596,18.19241807455738,41.349662145306006,16.004755565937725,42.04646727404781,46.2808430260123,73.5657188422982)\n",
    "input_data_as_numpy_array = np.asarray(input_data)\n",
    "#reshape the array as we predicting for one instance\n",
    "input_data_reshape = input_data_as_numpy_array.reshape(1,-1)\n",
    "\n",
    "#standardize the input data\n",
    "std_data = sc.transform(input_data_reshape)\n",
    "print(std_data)\n",
    "\n",
    "prediction = clf1.predict(std_data)\n",
    "print(prediction)\n",
    "\n",
    "if (prediction[0] == 0):\n",
    "    print(\"The person in thinking neutral\")\n",
    "elif (prediction[0] == 1):\n",
    "    print(\"The person is thinking right movement:\")\n",
    "elif(prediction[0] == 2):\n",
    "    print(\"The person is thinking left movement:\")\n",
    "    \n",
    "\n",
    "\n"
   ]
  },
  {
   "cell_type": "markdown",
   "id": "e3c46f77",
   "metadata": {},
   "source": [
    "# SUPPORT VECTOR MACHINES"
   ]
  },
  {
   "cell_type": "code",
   "execution_count": null,
   "id": "1616971f",
   "metadata": {},
   "outputs": [],
   "source": [
    "from sklearn.svm import SVC\n",
    "from sklearn.metrics import accuracy_score\n",
    "clf2 = SVC()\n",
    "clf2.fit(X_train, y_train)\n",
    "X_training_svm = clf2.predict(X_train)\n",
    "acc_svm = round(accuracy_score(X_training_svm, y_train) * 100, 2)\n",
    "print (' training Accuracy due to svm',str(acc_svm) + '%')\n",
    "\n",
    "##### testing accuracy\n",
    "\n",
    "X_test_svm_prediction = clf2.predict(X_test)\n",
    "acc_svm = round(accuracy_score(X_test_svm_prediction, y_test)*100,2)\n",
    "print ('testing Accuracy due to svm',str(acc_svm) + ' %')\n",
    "\n",
    "# predicting system \n",
    "\n",
    "\n",
    "input_data1 = (3571.5776698564637,2063.503373184418,0.6029205352726208,2.967502905177528,1.4389885333016486,3.295020474122926,2.052318300662066,3.1929348458678626,3563.866619628976,2060.286630465621,1.2048099804200265,2.8103413736129825,0.27225772874660253,3.2862951557027094,1.0678356137575986,1.9728319154162408,3652.2514313778815,2127.7279583112304,13.27429161159918,34.36241292717517,36.26740246352244,56.93358683986829,48.214204584167035,74.47805088211938,3567.9662227438766,2061.7293157396007,0.5639959873004751,1.8721454702989053,1.4744399511095823,3.151339493976347,1.1046383080327566,1.9720318177527565,3557.726002755468,2055.8270423349927,0.891967376033974,2.669653114283589,1.5092077923923408,3.223965144639929,1.1366182390371824,2.1194584472732623,3629.0269092328194,2112.43573527682,13.547810600175742,33.42932882710743,32.38408386460878,56.56392200821375,46.852538109751684,75.99428250396319,3572.7670294266136,2064.8107935615335,1.1138945552313306,3.087238282060807,2.594065151630992,3.6937640590190437,3.743236375279487,5.449513343688413,3624.6588025440947,2117.797875892098,17.72209210101678,44.826561263290984,45.20186494044083,70.46932926197067,52.01336589318217,78.6992320452235,3574.8087842736973,2069.4394015495755,3.9431400426464016,10.523827732442765,9.784315414140655,16.80055893338254,16.40704563679004,29.77800027885906,3599.12334525423,2092.832289859586,10.32278916169577,31.94580621129784,27.862453555402396,51.41803859432595,42.988782306876445,69.05913364184316,3644.8426227370746,2124.2769771486005,13.791168423040311,35.1227944717199,35.803994796177,52.92858607598883,47.091113299675946,75.77059064746959,3574.582758813449,2065.692541804272,0.9280601508137211,2.6745293039707225,1.7775098800923772,3.4632397601696416,3.531847362428501,4.635422446750105,3612.975093711585,2106.3912922348186,10.486696520513933,34.594568511354616,31.14109960070707,57.91657781776544,46.74556734516573,76.699566475851,3687.0169057606745,2147.3154736112638,11.454735106178045,34.232922759264135,35.43148877248333,58.78652499474915,48.76385063044414,77.23551806293348)\n",
    "input_data_as_numpy_array1 = np.asarray(input_data1)\n",
    "#reshape the array as we predicting for one instance\n",
    "input_data_reshape1 = input_data_as_numpy_array1.reshape(1,-1)\n",
    "\n",
    "#standardize the input data\n",
    "std_data1 = sc.transform(input_data_reshape1)\n",
    "print(std_data1)\n",
    "\n",
    "prediction1 = clf2.predict(std_data1)\n",
    "print(prediction1)\n",
    "\n",
    "if (prediction1[0] == 0):\n",
    "    print(\"The person in thinking neutral\")\n",
    "elif (prediction1[0] == 1):\n",
    "    print(\"The person is thinking right movement:\")\n",
    "elif(prediction1[0] == 2):\n",
    "    print(\"The person is thinking left movement:\")\n",
    "\n",
    "\n",
    "\n",
    "\n",
    "\n"
   ]
  },
  {
   "cell_type": "markdown",
   "id": "77818150",
   "metadata": {},
   "source": [
    "# K-NEAREST NEIGHBOURS"
   ]
  },
  {
   "cell_type": "code",
   "execution_count": null,
   "id": "aa9ca4e5",
   "metadata": {},
   "outputs": [],
   "source": [
    "from sklearn.neighbors import KNeighborsClassifier\n",
    "clf3 = KNeighborsClassifier()\n",
    "clf3.fit(X_train, y_train)\n",
    "X_training_knn = clf3.predict(X_train)\n",
    "acc_knn = round(accuracy_score(X_training_knn, y_train) * 100, 2)\n",
    "print ('Testing accuracy due to k-nearest neighbors',str(acc_knn)+'%')\n",
    "\n",
    "X_test_knn_prediction = clf3.predict(X_test)\n",
    "acc_knn = round(accuracy_score(X_test_knn_prediction, y_test)*100,2)\n",
    "print ('Testing accuracy due to k-nearest neighbors',str(acc_knn) + ' %')\n",
    "\n",
    "\n",
    "input_data2 = (3571.5776698564637,2063.503373184418,0.6029205352726208,2.967502905177528,1.4389885333016486,3.295020474122926,2.052318300662066,3.1929348458678626,3563.866619628976,2060.286630465621,1.2048099804200265,2.8103413736129825,0.27225772874660253,3.2862951557027094,1.0678356137575986,1.9728319154162408,3652.2514313778815,2127.7279583112304,13.27429161159918,34.36241292717517,36.26740246352244,56.93358683986829,48.214204584167035,74.47805088211938,3567.9662227438766,2061.7293157396007,0.5639959873004751,1.8721454702989053,1.4744399511095823,3.151339493976347,1.1046383080327566,1.9720318177527565,3557.726002755468,2055.8270423349927,0.891967376033974,2.669653114283589,1.5092077923923408,3.223965144639929,1.1366182390371824,2.1194584472732623,3629.0269092328194,2112.43573527682,13.547810600175742,33.42932882710743,32.38408386460878,56.56392200821375,46.852538109751684,75.99428250396319,3572.7670294266136,2064.8107935615335,1.1138945552313306,3.087238282060807,2.594065151630992,3.6937640590190437,3.743236375279487,5.449513343688413,3624.6588025440947,2117.797875892098,17.72209210101678,44.826561263290984,45.20186494044083,70.46932926197067,52.01336589318217,78.6992320452235,3574.8087842736973,2069.4394015495755,3.9431400426464016,10.523827732442765,9.784315414140655,16.80055893338254,16.40704563679004,29.77800027885906,3599.12334525423,2092.832289859586,10.32278916169577,31.94580621129784,27.862453555402396,51.41803859432595,42.988782306876445,69.05913364184316,3644.8426227370746,2124.2769771486005,13.791168423040311,35.1227944717199,35.803994796177,52.92858607598883,47.091113299675946,75.77059064746959,3574.582758813449,2065.692541804272,0.9280601508137211,2.6745293039707225,1.7775098800923772,3.4632397601696416,3.531847362428501,4.635422446750105,3612.975093711585,2106.3912922348186,10.486696520513933,34.594568511354616,31.14109960070707,57.91657781776544,46.74556734516573,76.699566475851,3687.0169057606745,2147.3154736112638,11.454735106178045,34.232922759264135,35.43148877248333,58.78652499474915,48.76385063044414,77.23551806293348)\n",
    "input_data_as_numpy_array2 = np.asarray(input_data2)\n",
    "#reshape the array as we predicting for one instance\n",
    "input_data_reshape2 = input_data_as_numpy_array2.reshape(1,-1)\n",
    "\n",
    "#standardize the input data\n",
    "std_data2 = sc.transform(input_data_reshape2)\n",
    "print(std_data2)\n",
    "\n",
    "prediction2 = clf3.predict(std_data2)\n",
    "print(prediction2)\n",
    "\n",
    "if (prediction2[0] == 0):\n",
    "    print(\"The person in thinking neutral\")\n",
    "elif (prediction2[0] == 1):\n",
    "    print(\"The person is thinking right movement:\")\n",
    "elif(prediction2[0] == 2):\n",
    "    print(\"The person is thinking left movement:\")\n",
    "\n",
    "\n"
   ]
  },
  {
   "cell_type": "markdown",
   "id": "3f114a39",
   "metadata": {},
   "source": [
    "# GAUSSIAN NAIVE BAYES"
   ]
  },
  {
   "cell_type": "code",
   "execution_count": null,
   "id": "6ac1964d",
   "metadata": {},
   "outputs": [],
   "source": [
    "from sklearn.naive_bayes import GaussianNB\n",
    "clf4 = GaussianNB()\n",
    "clf4.fit(X_train, y_train)\n",
    "X_training_gnb = clf4.predict(X_train)\n",
    "acc_gnb_train = round(accuracy_score(X_training_gnb, y_train) * 100, 2)\n",
    "print ('The trainning accuracy due to gaussian Naive Bayes',str(acc_gnb_train) + '%')\n",
    "\n",
    "\n",
    "\n",
    "X_test_gnb_prediction = clf4.predict(X_test)\n",
    "acc_gnb_test = round(accuracy_score(X_test_gnb_prediction, y_test)*100,2)\n",
    "print ('The testing accuracy due to gaussian naive bayes',str(acc_gnb_test) + ' %')\n",
    "\n",
    "\n",
    "input_data4 = (3572.8206301635746,2064.823341391479,0.676923000283142,1.6208792213645364,0.9653693627581366,2.392263064347868,2.5822655546677136,3.185588152888741,3565.166723663276,2059.9299636801193,1.7792927038161797,2.3518752543331503,1.220727771879332,2.4697723074334936,1.8758594574535237,2.0728105613968086,3606.7239682581703,2086.958979574331,1.153265361762804,2.8230507670246094,3.861757558028895,6.222112638653298,36.081080316779065,17.709029115243172,3561.588970862761,2057.1046359140196,0.362450908161272,1.1474588043418443,0.48718582111941383,1.284551134031109,0.6686261727356205,1.1435402027539778,3560.3622419745902,2057.1125051725635,0.4723050875884534,1.5875542674790495,0.38650182557993107,1.3239231045425055,0.6040247684292127,1.4605839395442115,3609.754224241122,2089.0537828801316,2.2190414435205215,7.378204355094871,4.254621964762583,7.400784762533344,30.87771590839707,16.405115881638643,3573.4573576167327,2065.7368120585015,0.9773541929428039,2.055011329989239,0.6904127655281606,1.5133083868057404,6.200822976478619,3.839364549264027,3577.6540100085513,2068.241037770624,1.2387691270723404,2.991930908140711,0.8134161335547229,1.4380361774006372,5.263060182188818,4.667288411203047,3599.227433590265,2081.434369689118,0.642282213389776,2.6867070147860908,1.669191211462599,4.111003902647475,11.34525998845887,6.663883928693023,3596.9823130133636,2086.8788987508324,1.184297408620699,2.6490502076630134,0.7982233679366834,3.6809331906442835,23.690064523393342,12.40928637589152,3605.6082180912695,2089.7746738985747,1.6056434105578166,3.78376713047651,1.135591853211613,4.933837421558549,35.61569739769198,17.52701068741889,3578.080993053148,2067.289637176072,1.0729072320888164,2.8868185287758172,0.8206714428864241,2.0628088277805974,3.052779990786006,3.159785492232652,3648.7714192410285,2113.8101191130963,1.3793727460985588,5.411391186623398,1.5446236709185448,5.349768216197181,26.247668739399785,13.320391292303063,3607.467804070653,2089.2631611796924,1.6057730063596836,4.247633678976897,1.6497621595250291,2.9388675894995604,31.019481810538554,16.648757791510526)\n",
    "input_data_as_numpy_array4 = np.asarray(input_data4)\n",
    "#reshape the array as we predicting for one instance\n",
    "input_data_reshape4 = input_data_as_numpy_array4.reshape(1,-1)\n",
    "\n",
    "#standardize the input data\n",
    "std_data4 = sc.transform(input_data_reshape4)\n",
    "print(std_data4)\n",
    "\n",
    "prediction4 = clf4.predict(std_data4)\n",
    "print(prediction4)\n",
    "\n",
    "if (prediction4[0] == 0):\n",
    "    print(\"The person in thinking neutral\")\n",
    "elif (prediction4[0] == 1):\n",
    "    print(\"The person is thinking right movement:\")\n",
    "elif(prediction4[0] == 2):\n",
    "    print(\"The person is thinking left movement:\")\n",
    "\n",
    "\n",
    "\n"
   ]
  },
  {
   "cell_type": "markdown",
   "id": "181031ab",
   "metadata": {},
   "source": [
    "# RANDOM FOREST"
   ]
  },
  {
   "cell_type": "code",
   "execution_count": null,
   "id": "77007682",
   "metadata": {},
   "outputs": [],
   "source": [
    "from sklearn.ensemble import RandomForestClassifier\n",
    "# creating a RF classifier\n",
    "clf5 = RandomForestClassifier(n_estimators = 100) \n",
    "clf5.fit(X_train, y_train)\n",
    "X_training_rfc = clf5.predict(X_train)\n",
    "acc_rfc_train = round(accuracy_score(X_training_rfc, y_train) * 100, 2)\n",
    "print ('The trainning accuracy due to random forest',str(acc_rfc_train) + '%')\n",
    "\n",
    "\n",
    "X_test_rfc_prediction = clf5.predict(X_test)\n",
    "acc_rfc_test = round(accuracy_score(X_test_rfc_prediction, y_test)*100,2)\n",
    "print ('The testing accuracy due to gaussian naive bayes',str(acc_rfc_test) + ' %')\n",
    "\n",
    "\n",
    "\n",
    "\n",
    "\n",
    "input_data5 = (3572.8206301635746,2064.823341391479,0.676923000283142,1.6208792213645364,0.9653693627581366,2.392263064347868,2.5822655546677136,3.185588152888741,3565.166723663276,2059.9299636801193,1.7792927038161797,2.3518752543331503,1.220727771879332,2.4697723074334936,1.8758594574535237,2.0728105613968086,3606.7239682581703,2086.958979574331,1.153265361762804,2.8230507670246094,3.861757558028895,6.222112638653298,36.081080316779065,17.709029115243172,3561.588970862761,2057.1046359140196,0.362450908161272,1.1474588043418443,0.48718582111941383,1.284551134031109,0.6686261727356205,1.1435402027539778,3560.3622419745902,2057.1125051725635,0.4723050875884534,1.5875542674790495,0.38650182557993107,1.3239231045425055,0.6040247684292127,1.4605839395442115,3609.754224241122,2089.0537828801316,2.2190414435205215,7.378204355094871,4.254621964762583,7.400784762533344,30.87771590839707,16.405115881638643,3573.4573576167327,2065.7368120585015,0.9773541929428039,2.055011329989239,0.6904127655281606,1.5133083868057404,6.200822976478619,3.839364549264027,3577.6540100085513,2068.241037770624,1.2387691270723404,2.991930908140711,0.8134161335547229,1.4380361774006372,5.263060182188818,4.667288411203047,3599.227433590265,2081.434369689118,0.642282213389776,2.6867070147860908,1.669191211462599,4.111003902647475,11.34525998845887,6.663883928693023,3596.9823130133636,2086.8788987508324,1.184297408620699,2.6490502076630134,0.7982233679366834,3.6809331906442835,23.690064523393342,12.40928637589152,3605.6082180912695,2089.7746738985747,1.6056434105578166,3.78376713047651,1.135591853211613,4.933837421558549,35.61569739769198,17.52701068741889,3578.080993053148,2067.289637176072,1.0729072320888164,2.8868185287758172,0.8206714428864241,2.0628088277805974,3.052779990786006,3.159785492232652,3648.7714192410285,2113.8101191130963,1.3793727460985588,5.411391186623398,1.5446236709185448,5.349768216197181,26.247668739399785,13.320391292303063,3607.467804070653,2089.2631611796924,1.6057730063596836,4.247633678976897,1.6497621595250291,2.9388675894995604,31.019481810538554,16.648757791510526)\n",
    "input_data_as_numpy_array5 = np.asarray(input_data5)\n",
    "#reshape the array as we predicting for one instance\n",
    "input_data_reshape5 = input_data_as_numpy_array5.reshape(1,-1)\n",
    "\n",
    "#standardize the input data\n",
    "std_data5 = sc.transform(input_data_reshape5)\n",
    "print(std_data5)\n",
    "\n",
    "prediction5 = clf5.predict(std_data5)\n",
    "print(prediction5)\n",
    "\n",
    "if (prediction5[0] == 0):\n",
    "    print(\"The person in thinking neutral\")\n",
    "elif (prediction5[0] == 1):\n",
    "    print(\"The person is thinking right movement:\")\n",
    "elif(prediction5[0] == 2):\n",
    "    print(\"The person is thinking left movement:\")\n",
    "\n",
    "\n"
   ]
  },
  {
   "cell_type": "code",
   "execution_count": null,
   "id": "14589c0f",
   "metadata": {},
   "outputs": [],
   "source": []
  },
  {
   "cell_type": "code",
   "execution_count": null,
   "id": "dbe3c145",
   "metadata": {},
   "outputs": [],
   "source": []
  },
  {
   "cell_type": "code",
   "execution_count": null,
   "id": "78740861",
   "metadata": {},
   "outputs": [],
   "source": []
  },
  {
   "cell_type": "code",
   "execution_count": null,
   "id": "024893e4",
   "metadata": {},
   "outputs": [],
   "source": []
  },
  {
   "cell_type": "code",
   "execution_count": null,
   "id": "d5bacd77",
   "metadata": {},
   "outputs": [],
   "source": []
  },
  {
   "cell_type": "code",
   "execution_count": null,
   "id": "6abcc36a",
   "metadata": {},
   "outputs": [],
   "source": []
  },
  {
   "cell_type": "code",
   "execution_count": null,
   "id": "872d6f1f",
   "metadata": {},
   "outputs": [],
   "source": []
  },
  {
   "cell_type": "code",
   "execution_count": null,
   "id": "e83d4089",
   "metadata": {},
   "outputs": [],
   "source": []
  },
  {
   "cell_type": "code",
   "execution_count": null,
   "id": "00232e81",
   "metadata": {},
   "outputs": [],
   "source": []
  },
  {
   "cell_type": "code",
   "execution_count": null,
   "id": "9d6cfd55",
   "metadata": {},
   "outputs": [],
   "source": []
  },
  {
   "cell_type": "code",
   "execution_count": null,
   "id": "3bc87cb5",
   "metadata": {},
   "outputs": [],
   "source": []
  },
  {
   "cell_type": "code",
   "execution_count": null,
   "id": "b73ac85d",
   "metadata": {},
   "outputs": [],
   "source": []
  },
  {
   "cell_type": "code",
   "execution_count": null,
   "id": "ea51ccad",
   "metadata": {},
   "outputs": [],
   "source": []
  },
  {
   "cell_type": "code",
   "execution_count": null,
   "id": "bf1b1ffa",
   "metadata": {},
   "outputs": [],
   "source": []
  },
  {
   "cell_type": "code",
   "execution_count": null,
   "id": "1cbec263",
   "metadata": {},
   "outputs": [],
   "source": []
  },
  {
   "cell_type": "code",
   "execution_count": null,
   "id": "cf4c8539",
   "metadata": {},
   "outputs": [],
   "source": []
  },
  {
   "cell_type": "code",
   "execution_count": null,
   "id": "8db8b041",
   "metadata": {},
   "outputs": [],
   "source": []
  },
  {
   "cell_type": "code",
   "execution_count": null,
   "id": "f23d2f07",
   "metadata": {},
   "outputs": [],
   "source": []
  },
  {
   "cell_type": "code",
   "execution_count": null,
   "id": "a3567a02",
   "metadata": {},
   "outputs": [],
   "source": []
  },
  {
   "cell_type": "code",
   "execution_count": null,
   "id": "b1c841c2",
   "metadata": {},
   "outputs": [],
   "source": []
  },
  {
   "cell_type": "code",
   "execution_count": null,
   "id": "8b171802",
   "metadata": {},
   "outputs": [],
   "source": []
  },
  {
   "cell_type": "code",
   "execution_count": null,
   "id": "0cac2cbc",
   "metadata": {},
   "outputs": [],
   "source": []
  },
  {
   "cell_type": "code",
   "execution_count": null,
   "id": "1198e544",
   "metadata": {},
   "outputs": [],
   "source": []
  },
  {
   "cell_type": "code",
   "execution_count": null,
   "id": "ee859128",
   "metadata": {},
   "outputs": [],
   "source": []
  },
  {
   "cell_type": "code",
   "execution_count": null,
   "id": "acfaa0f4",
   "metadata": {},
   "outputs": [],
   "source": []
  },
  {
   "cell_type": "code",
   "execution_count": null,
   "id": "1776ced2",
   "metadata": {},
   "outputs": [],
   "source": []
  },
  {
   "cell_type": "code",
   "execution_count": null,
   "id": "bae54e32",
   "metadata": {},
   "outputs": [],
   "source": []
  },
  {
   "cell_type": "code",
   "execution_count": null,
   "id": "3c43f88e",
   "metadata": {},
   "outputs": [],
   "source": []
  },
  {
   "cell_type": "code",
   "execution_count": null,
   "id": "66c6cd81",
   "metadata": {},
   "outputs": [],
   "source": []
  },
  {
   "cell_type": "code",
   "execution_count": null,
   "id": "4a9d3f7e",
   "metadata": {},
   "outputs": [],
   "source": []
  }
 ],
 "metadata": {
  "kernelspec": {
   "display_name": "Python 3",
   "language": "python",
   "name": "python3"
  },
  "language_info": {
   "codemirror_mode": {
    "name": "ipython",
    "version": 3
   },
   "file_extension": ".py",
   "mimetype": "text/x-python",
   "name": "python",
   "nbconvert_exporter": "python",
   "pygments_lexer": "ipython3",
   "version": "3.8.8"
  }
 },
 "nbformat": 4,
 "nbformat_minor": 5
}
